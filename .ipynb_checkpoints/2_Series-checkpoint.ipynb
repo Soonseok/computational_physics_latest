{
 "cells": [
  {
   "cell_type": "code",
   "execution_count": 48,
   "id": "6b453585-525a-4d3b-9f15-3a8e844aa1a8",
   "metadata": {},
   "outputs": [],
   "source": [
    "import numpy as np\n",
    "import matplotlib.pyplot as plt"
   ]
  },
  {
   "cell_type": "markdown",
   "id": "6327006b-8a1f-4e05-93bd-f047f8dda7b9",
   "metadata": {},
   "source": [
    "### 파이를 계산하는 코드이다. arctan(1) X 4를 해 주었다."
   ]
  },
  {
   "cell_type": "code",
   "execution_count": 14,
   "id": "53ed8c23-2c31-4a04-a6b9-bc684ac0c8fe",
   "metadata": {},
   "outputs": [
    {
     "name": "stdout",
     "output_type": "stream",
     "text": [
      "3.1414926535900345\n"
     ]
    }
   ],
   "source": [
    "N = 10000\n",
    "sum = 0.0\n",
    "\n",
    "for i in range(N):\n",
    "\tx = ((-1)**i) /(2*i+1)\n",
    "\tsum += x\n",
    "sum *= 4\n",
    "print(sum)"
   ]
  },
  {
   "cell_type": "markdown",
   "id": "e90c6c35-c668-406a-8b10-edb3b7602708",
   "metadata": {},
   "source": [
    "### numpy에서 제공하는 pi와 얼마나 차이가 나는지 계산해 보았다."
   ]
  },
  {
   "cell_type": "code",
   "execution_count": 32,
   "id": "1c51225f-eb92-4ea6-a4de-32b2dce039e0",
   "metadata": {},
   "outputs": [
    {
     "name": "stdout",
     "output_type": "stream",
     "text": [
      "0.7500000025\n"
     ]
    }
   ],
   "source": [
    "pi = np.pi\n",
    "diff = (pi-sum)/pi\n",
    "\n",
    "print(diff)"
   ]
  },
  {
   "cell_type": "markdown",
   "id": "2c6531c3-82b7-4180-9594-a8a353748bf4",
   "metadata": {},
   "source": [
    "---\n",
    "### 특정 수준의 정확도, 예를 들어 1e-08 수준으로 계산하고 싶다면 아래와 같이 한다."
   ]
  },
  {
   "cell_type": "code",
   "execution_count": 31,
   "id": "559b1a1b-e363-45f4-9116-ce9e73c5a95f",
   "metadata": {},
   "outputs": [
    {
     "name": "stdout",
     "output_type": "stream",
     "text": [
      "9.999999926453645e-09\n",
      "3.141592622173867\n"
     ]
    }
   ],
   "source": [
    "eps = 1e-08\n",
    "sum = 0.0\n",
    "n = 0\n",
    "\n",
    "while (True):\n",
    "    x = ((-1)**n) /(2*n+1)\n",
    "    sum += x\n",
    "    if ((abs(pi-(sum*4))/pi)<eps):\n",
    "        break\n",
    "    n += 1\n",
    "    \n",
    "diff = abs(pi-(sum*4))/pi\n",
    "print(diff)\n",
    "print(sum*4)"
   ]
  },
  {
   "cell_type": "markdown",
   "id": "6759fee2-7f37-447f-ae8c-ef01a9aaed7f",
   "metadata": {},
   "source": [
    "---\n",
    "### Reimann Zeta Function"
   ]
  },
  {
   "cell_type": "code",
   "execution_count": 52,
   "id": "3a864270-1598-4e10-9961-a431c58016b7",
   "metadata": {},
   "outputs": [
    {
     "name": "stdout",
     "output_type": "stream",
     "text": [
      "1.6448340718480652\n"
     ]
    }
   ],
   "source": [
    "def reimann_zeta(x, n):\n",
    "    sum = 0.0\n",
    "    for i in range(1, n+1):\n",
    "        zeta = 1/(i**x)\n",
    "        sum += zeta\n",
    "    return sum\n",
    "\n",
    "sol = reimann_zeta(2, 10000)\n",
    "print(sol)"
   ]
  },
  {
   "cell_type": "code",
   "execution_count": 61,
   "id": "2a7cd4d7-4036-4bb4-97d0-fb809523f6b2",
   "metadata": {},
   "outputs": [
    {
     "data": {
      "image/png": "[encoded data removed]",
      "text/plain": [
       "<Figure size 640x480 with 1 Axes>"
      ]
     },
     "metadata": {},
     "output_type": "display_data"
    }
   ],
   "source": [
    "x = np.arange(1, 10.001, 0.001)\n",
    "n = 10000\n",
    "sol = []\n",
    "\n",
    "for i in x:\n",
    "    s = reimann_zeta(i, n)\n",
    "    sol.append(s)\n",
    "\n",
    "plt.ylim(top=8)\n",
    "plt.plot(x, sol)\n",
    "plt.show()"
   ]
  },
  {
   "cell_type": "code",
   "execution_count": null,
   "id": "8bb71069-3c49-4931-a1cc-15aa85ae9050",
   "metadata": {},
   "outputs": [],
   "source": []
  }
 ],
 "metadata": {
  "kernelspec": {
   "display_name": "Python 3 (ipykernel)",
   "language": "python",
   "name": "python3"
  },
  "language_info": {
   "codemirror_mode": {
    "name": "ipython",
    "version": 3
   },
   "file_extension": ".py",
   "mimetype": "text/x-python",
   "name": "python",
   "nbconvert_exporter": "python",
   "pygments_lexer": "ipython3",
   "version": "3.10.6"
  }
 },
 "nbformat": 4,
 "nbformat_minor": 5
}
