{
 "cells": [
  {
   "cell_type": "code",
   "execution_count": 2,
   "id": "2a4bf784-33e2-4c5a-88a9-f236880d488e",
   "metadata": {},
   "outputs": [],
   "source": [
    "import numpy as np\n",
    "import matplotlib.pyplot as plt"
   ]
  },
  {
   "cell_type": "markdown",
   "id": "8dcd2634-c884-4341-9be8-33ea09df836b",
   "metadata": {},
   "source": [
    "---\n",
    "sin(x) - 1/2 = 0의 해를 구하여라"
   ]
  },
  {
   "cell_type": "code",
   "execution_count": 3,
   "id": "1281e8dc-07f2-40a3-907a-c229b3e6e8c0",
   "metadata": {},
   "outputs": [
    {
     "name": "stdout",
     "output_type": "stream",
     "text": [
      "0.5235987755798704 -1.5959511490137857e-11\n"
     ]
    }
   ],
   "source": [
    "eps = 1e-8\n",
    "\n",
    "def f(x):\n",
    "    return np.sin(x)-0.5\n",
    "\n",
    "def df(x):\n",
    "    return np.cos(x)\n",
    "\n",
    "x = 1\n",
    "\n",
    "while(np.abs(f(x)) > eps):\n",
    "    x -= f(x)/df(x)\n",
    "\n",
    "print(x, f(x))"
   ]
  },
  {
   "cell_type": "code",
   "execution_count": 4,
   "id": "c9b0848e-b9de-498d-ae5d-9f17193a545b",
   "metadata": {},
   "outputs": [
    {
     "name": "stdout",
     "output_type": "stream",
     "text": [
      "0.5235987755798704 -1.5959511490137857e-11\n",
      "0.0011582374572753906\n"
     ]
    }
   ],
   "source": [
    "import time\n",
    "t_0 = time.time()\n",
    "eps = 1e-8\n",
    "\n",
    "def f(x):\n",
    "    return np.sin(x)-0.5\n",
    "\n",
    "def df(x):\n",
    "    return np.cos(x)\n",
    "\n",
    "x = 1\n",
    "\n",
    "while(np.abs(f(x)) > eps):\n",
    "    x -= f(x)/df(x)\n",
    "\n",
    "print(x, f(x))\n",
    "print(time.time()-t_0)"
   ]
  },
  {
   "cell_type": "code",
   "execution_count": 5,
   "id": "6c8465ad-9e1a-4180-814f-2643bef0ed06",
   "metadata": {},
   "outputs": [
    {
     "name": "stdout",
     "output_type": "stream",
     "text": [
      "0.5235987736477412 -1.68923247612085e-09\n",
      "0.001508951187133789\n"
     ]
    }
   ],
   "source": [
    "t_1 = time.time()\n",
    "eps = 1e-8\n",
    "def g(x):\n",
    "    return np.sin(x)-0.5\n",
    "\n",
    "y0 = 0.0\n",
    "y1 = np.pi / 2.0\n",
    "\n",
    "while(abs(y0-y1)>eps):\n",
    "    y2 = (y0+y1)/2.0\n",
    "    if ((g(y2)*g(y0)) < 0.0):\n",
    "        y1 = y2\n",
    "    else:\n",
    "        y0 = y2\n",
    "\n",
    "print(y2, f(y2))\n",
    "print(time.time()-t_1)"
   ]
  },
  {
   "cell_type": "markdown",
   "id": "e92c6ca7-c94d-465d-b56c-988db88ff91e",
   "metadata": {},
   "source": [
    "위의 문제에서는 Bisection Method보다 Newton's Method가 더 빠른 것을 확인할 수 있다.  \n",
    "Bisection method와 Newton's method 모두 반복법(iterative method)을 사용하는데, 두 알고리즘의 수렴 속도는 문제에 따라 다를 수 있다.  \n",
    "각 알고리즘의 특성에 따라 빠르게 수렴하는 경우와 그렇지 않은 경우는 다음과 같다.\n",
    "\n",
    "1. **Bisection Method:**\n",
    "   - 이분법은 구간을 반으로 나누어서 해가 있는 쪽을 선택하는 방법으로, 수렴 속도가 일정하다.\n",
    "   - 주어진 구간에서 균등하게 수렴하므로 안정적으로 동작한다.\n",
    "   - 함수가 매끄럽고 단조인 경우에 효과적이다.\n",
    "\n",
    "2. **Newton's Method:**\n",
    "   - 뉴턴 메소드는 현재 추정값에서의 기울기를 사용하여 해를 찾아가는 방법으로, 수렴 속도가 초기 추정값에 따라 다를 수 있다.\n",
    "   - 초기 추정값에 따라 수렴이 빠를 수도, 느릴 수도 있다.\n",
    "   - 함수의 기울기가 0에 가까워지면 수렴이 느려질 수 있으며, 초기 추정값에 따라 해가 발산할 수도 있다.\n",
    "\n",
    "따라서 어떤 알고리즘이 더 빠르다고 일반적으로 말하기는 어렵다. 문제에 따라 다르며, 초기 추정값의 선택, 함수의 특성, 수렴 속도 등을 고려하여 적절한 알고리즘을 선택해야 한다. 상황에 따라서는 둘 다 시도하고 더 나은 결과를 얻는 것이 좋을 수 있다."
   ]
  },
  {
   "cell_type": "markdown",
   "id": "bb8481d7-9552-4852-9f6c-d565b40a7502",
   "metadata": {},
   "source": [
    "---\n",
    "이분법을 이용해 x^5+x = 1의 해를 구해본다."
   ]
  },
  {
   "cell_type": "code",
   "execution_count": 37,
   "id": "dfce9d24-853b-431a-954b-61eadf49d327",
   "metadata": {},
   "outputs": [
    {
     "name": "stdout",
     "output_type": "stream",
     "text": [
      "0.7544998327444176 -0.0009906663366845425\n"
     ]
    }
   ],
   "source": [
    "eps = 1e-03\n",
    "\n",
    "def f(x):\n",
    "    return x**5 + x - 1\n",
    "\n",
    "def df(x):\n",
    "    return (5*x)**4 + 1\n",
    "\n",
    "x = 0.5\n",
    "\n",
    "while(abs(f(x)) > eps):\n",
    "    x = x- f(x)/df(x)\n",
    "\n",
    "print(x, f(x))"
   ]
  },
  {
   "cell_type": "markdown",
   "id": "4aafc6b0-a0c7-4f52-bf22-1abec2f0eebe",
   "metadata": {},
   "source": [
    "---\n",
    "자성체 문제를 Newton's method를 이용해 풀어라"
   ]
  },
  {
   "cell_type": "code",
   "execution_count": null,
   "id": "9c71052a-e830-49d9-822f-c0424a435770",
   "metadata": {},
   "outputs": [],
   "source": [
    "def f(m, T):\n",
    "    return np.tanh(m/T)\n",
    "\n",
    "def df(m, T):\n",
    "    return (np.sech(m/T))^2\n",
    "\n",
    "def newton_methos(initial_guess, tol=1e-6, max_iter=100):\n",
    "    m = initial_guess\n",
    "\n",
    "    for i in range(max_iter):"
   ]
  },
  {
   "cell_type": "code",
   "execution_count": null,
   "id": "b6b868d6-ea62-4884-a973-f574ffe30ab0",
   "metadata": {},
   "outputs": [],
   "source": []
  },
  {
   "cell_type": "code",
   "execution_count": null,
   "id": "70a7bbb6-c132-4023-95c3-634af19300d6",
   "metadata": {},
   "outputs": [],
   "source": []
  },
  {
   "cell_type": "code",
   "execution_count": null,
   "id": "bd76886a-c55f-4cee-bf52-982936f85bc1",
   "metadata": {},
   "outputs": [],
   "source": []
  }
 ],
 "metadata": {
  "kernelspec": {
   "display_name": "Python 3 (ipykernel)",
   "language": "python",
   "name": "python3"
  },
  "language_info": {
   "codemirror_mode": {
    "name": "ipython",
    "version": 3
   },
   "file_extension": ".py",
   "mimetype": "text/x-python",
   "name": "python",
   "nbconvert_exporter": "python",
   "pygments_lexer": "ipython3",
   "version": "3.10.6"
  }
 },
 "nbformat": 4,
 "nbformat_minor": 5
}
